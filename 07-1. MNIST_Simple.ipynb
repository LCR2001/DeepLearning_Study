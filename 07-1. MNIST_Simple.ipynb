{
 "cells": [
  {
   "cell_type": "markdown",
   "id": "0d55b668",
   "metadata": {},
   "source": [
    "< MNIST 손글씨 인식하기 _ 기본 프레임 설정 >"
   ]
  },
  {
   "cell_type": "code",
   "execution_count": 1,
   "id": "e5ccd127",
   "metadata": {},
   "outputs": [],
   "source": [
    "from keras.datasets import mnist\n",
    "from keras.utils import np_utils\n",
    "from keras.models import Sequential\n",
    "from keras.layers import Dense\n",
    "from keras.callbacks import ModelCheckpoint,EarlyStopping"
   ]
  },
  {
   "cell_type": "code",
   "execution_count": 2,
   "id": "11d514c2",
   "metadata": {},
   "outputs": [],
   "source": [
    "import matplotlib.pyplot as plt\n",
    "import numpy as np\n",
    "import os\n",
    "import tensorflow as tf"
   ]
  },
  {
   "cell_type": "code",
   "execution_count": 3,
   "id": "46a4376c",
   "metadata": {},
   "outputs": [],
   "source": [
    "# seed값 설정\n",
    "seed = 0\n",
    "np.random.seed(seed)\n",
    "tf.random.set_seed(3)"
   ]
  },
  {
   "cell_type": "code",
   "execution_count": 6,
   "id": "00176439",
   "metadata": {},
   "outputs": [],
   "source": [
    "# MNIST 데이터 불러오기 및 정규화(normalization)\n",
    "(X_train,Y_train),(X_test,Y_test) = mnist.load_data()\n",
    "\n",
    "X_train = X_train.reshape(X_train.shape[0],784).astype('float32') / 255\n",
    "X_test = X_test.reshape(X_test.shape[0],784).astype('float32') / 255\n",
    "\n",
    "Y_train = np_utils.to_categorical(Y_train,10)\n",
    "Y_test = np_utils.to_categorical(Y_test,10)"
   ]
  },
  {
   "cell_type": "code",
   "execution_count": 7,
   "id": "bcaea1ec",
   "metadata": {},
   "outputs": [],
   "source": [
    "# 모델 프레임 설정\n",
    "model = Sequential()\n",
    "model.add(Dense(512, input_dim = 784, activation = 'relu'))\n",
    "model.add(Dense(10, activation = 'softmax'))  # softmax() : 입력받은 값을 0~1사이의 값으로 모두 정규화하며 출력 값들의 총합은 항상 1이 되는 특성을 가진 함수 / 다중 클래스 분류 모델을 만들 때 사용"
   ]
  },
  {
   "cell_type": "code",
   "execution_count": 8,
   "id": "d0a42611",
   "metadata": {},
   "outputs": [],
   "source": [
    "# 모델 실행 환경 설정\n",
    "model.compile(loss = 'categorical_crossentropy', optimizer = 'adam', metrics = ['accuracy'])   # categorical_crossentropy : 교차 엔트로피 계열 중 범주형 교차 엔트로피"
   ]
  },
  {
   "cell_type": "code",
   "execution_count": 14,
   "id": "c181cc5e",
   "metadata": {
    "scrolled": true
   },
   "outputs": [
    {
     "name": "stdout",
     "output_type": "stream",
     "text": [
      "\n",
      "Epoch 1: val_loss improved from inf to 0.14746, saving model to ./model\\01-0.1475.hdf5\n",
      "\n",
      "Epoch 2: val_loss improved from 0.14746 to 0.10208, saving model to ./model\\02-0.1021.hdf5\n",
      "\n",
      "Epoch 3: val_loss improved from 0.10208 to 0.08898, saving model to ./model\\03-0.0890.hdf5\n",
      "\n",
      "Epoch 4: val_loss improved from 0.08898 to 0.07876, saving model to ./model\\04-0.0788.hdf5\n",
      "\n",
      "Epoch 5: val_loss improved from 0.07876 to 0.07345, saving model to ./model\\05-0.0734.hdf5\n",
      "\n",
      "Epoch 6: val_loss improved from 0.07345 to 0.06723, saving model to ./model\\06-0.0672.hdf5\n",
      "\n",
      "Epoch 7: val_loss improved from 0.06723 to 0.06509, saving model to ./model\\07-0.0651.hdf5\n",
      "\n",
      "Epoch 8: val_loss improved from 0.06509 to 0.06275, saving model to ./model\\08-0.0628.hdf5\n",
      "\n",
      "Epoch 9: val_loss did not improve from 0.06275\n",
      "\n",
      "Epoch 10: val_loss improved from 0.06275 to 0.06200, saving model to ./model\\10-0.0620.hdf5\n",
      "\n",
      "Epoch 11: val_loss did not improve from 0.06200\n",
      "\n",
      "Epoch 12: val_loss did not improve from 0.06200\n",
      "\n",
      "Epoch 13: val_loss improved from 0.06200 to 0.06059, saving model to ./model\\13-0.0606.hdf5\n",
      "\n",
      "Epoch 14: val_loss did not improve from 0.06059\n",
      "\n",
      "Epoch 15: val_loss did not improve from 0.06059\n",
      "\n",
      "Epoch 16: val_loss did not improve from 0.06059\n",
      "\n",
      "Epoch 17: val_loss did not improve from 0.06059\n",
      "\n",
      "Epoch 18: val_loss did not improve from 0.06059\n",
      "\n",
      "Epoch 19: val_loss did not improve from 0.06059\n",
      "\n",
      "Epoch 20: val_loss did not improve from 0.06059\n",
      "\n",
      "Epoch 21: val_loss did not improve from 0.06059\n",
      "\n",
      "Epoch 22: val_loss did not improve from 0.06059\n",
      "\n",
      "Epoch 23: val_loss did not improve from 0.06059\n",
      "313/313 [==============================] - 1s 2ms/step - loss: 0.0669 - accuracy: 0.9834\n",
      "\n",
      " Test Accuracy: 0.9834\n"
     ]
    }
   ],
   "source": [
    "# 모델 최적화 설정\n",
    "MODEL_DIR = './model'\n",
    "if not os.path.exists(MODEL_DIR):\n",
    "    os.mkdir(MODEL_DIR)\n",
    "\n",
    "modelpath = \"./model/{epoch:02d}-{val_loss:.4f}.hdf5\"\n",
    "checkpointer = ModelCheckpoint(filepath = modelpath, monitor = 'val_loss', verbose = 1, save_best_only = True)   # val_loss : 테스트 오차값\n",
    "early_stopping_callback = EarlyStopping(monitor = 'val_loss', patience = 10)\n",
    "\n",
    "# 모델 실행\n",
    "history = model.fit(X_train, Y_train, validation_data = (X_test,Y_test), epochs = 30, batch_size = 200, verbose = 0, callbacks = [early_stopping_callback, checkpointer])\n",
    "\n",
    "# 테스트 정확도 출력\n",
    "print(\"\\n Test Accuracy: %.4f\" %(model.evaluate(X_test,Y_test)[1]))"
   ]
  },
  {
   "cell_type": "code",
   "execution_count": 17,
   "id": "846c327a",
   "metadata": {},
   "outputs": [
    {
     "data": {
      "image/png": "[encoded data removed]",
      "text/plain": [
       "<Figure size 432x288 with 1 Axes>"
      ]
     },
     "metadata": {
      "needs_background": "light"
     },
     "output_type": "display_data"
    }
   ],
   "source": [
    "# 테스트셋의 오차\n",
    "y_vloss = history.history['val_loss']\n",
    "\n",
    "# 학습셋의 오차\n",
    "y_loss = history.history['loss']\n",
    "\n",
    "# 그래프로 표현\n",
    "x_len = np.arange(len(y_loss))\n",
    "plt.plot(x_len, y_vloss, marker = '.', c = \"red\", label = 'Testset_loss')\n",
    "plt.plot(x_len, y_loss, marker = '.', c = \"blue\", label = 'Trainset_loss')\n",
    "\n",
    "# 그래프에 그리드를 주고 레이블을 표시\n",
    "plt.legend(loc = 'upper right')\n",
    "plt.grid()\n",
    "plt.xlabel('epoch')\n",
    "plt.ylabel('loss')\n",
    "plt.show()"
   ]
  },
  {
   "cell_type": "markdown",
   "id": "7dc1e0ed",
   "metadata": {},
   "source": [
    "===> 테스트셋의 과적합이 발생하기 전 학습을 끝냈기 때문에 계속해서 테스트셋의 오차가 줄어들고 있음을 확인할 수 있음"
   ]
  },
  {
   "cell_type": "code",
   "execution_count": null,
   "id": "356df691",
   "metadata": {},
   "outputs": [],
   "source": []
  }
 ],
 "metadata": {
  "kernelspec": {
   "display_name": "Python 3",
   "language": "python",
   "name": "python3"
  },
  "language_info": {
   "codemirror_mode": {
    "name": "ipython",
    "version": 3
   },
   "file_extension": ".py",
   "mimetype": "text/x-python",
   "name": "python",
   "nbconvert_exporter": "python",
   "pygments_lexer": "ipython3",
   "version": "3.8.8"
  }
 },
 "nbformat": 4,
 "nbformat_minor": 5
}
