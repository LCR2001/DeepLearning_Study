{
 "cells": [
  {
   "cell_type": "markdown",
   "id": "e8700009",
   "metadata": {},
   "source": [
    "<선형 회귀(Linear Regression) 실습>"
   ]
  },
  {
   "cell_type": "markdown",
   "id": "e17e390d",
   "metadata": {},
   "source": [
    "- 최소제곱"
   ]
  },
  {
   "cell_type": "code",
   "execution_count": 1,
   "id": "7af3c703",
   "metadata": {},
   "outputs": [],
   "source": [
    "import numpy as np"
   ]
  },
  {
   "cell_type": "code",
   "execution_count": 2,
   "id": "fa231458",
   "metadata": {},
   "outputs": [],
   "source": [
    "x = [2,4,6,8]\n",
    "y = [89, 98, 95, 100]"
   ]
  },
  {
   "cell_type": "code",
   "execution_count": 5,
   "id": "4a78d6dc",
   "metadata": {},
   "outputs": [
    {
     "name": "stdout",
     "output_type": "stream",
     "text": [
      "x값의 평균 :  5.0\n",
      "y값의 평균 :  95.5\n"
     ]
    }
   ],
   "source": [
    "mx = np.mean(x)\n",
    "my = np.mean(y)\n",
    "print('x값의 평균 : ', mx)\n",
    "print('y값의 평균 : ', my)"
   ]
  },
  {
   "cell_type": "code",
   "execution_count": 6,
   "id": "745598df",
   "metadata": {},
   "outputs": [],
   "source": [
    "divisor = sum([(i - mx)**2 for i in x])"
   ]
  },
  {
   "cell_type": "code",
   "execution_count": 8,
   "id": "eceb6559",
   "metadata": {},
   "outputs": [
    {
     "name": "stdout",
     "output_type": "stream",
     "text": [
      "분모:  20.0\n",
      "분자:  30.0\n"
     ]
    }
   ],
   "source": [
    "def top(x,mx,y,my):\n",
    "    d = 0\n",
    "    for i in range(len(x)):\n",
    "        d += (x[i] - mx) * (y[i] - my)\n",
    "    return d\n",
    "dividend = top(x,mx,y,my)\n",
    "\n",
    "print(\"분모: \", divisor)\n",
    "print(\"분자: \", dividend)"
   ]
  },
  {
   "cell_type": "code",
   "execution_count": 10,
   "id": "89977a43",
   "metadata": {},
   "outputs": [],
   "source": [
    "a = dividend/divisor\n",
    "b = my - (mx * a)"
   ]
  },
  {
   "cell_type": "code",
   "execution_count": 15,
   "id": "fd01b56f",
   "metadata": {},
   "outputs": [
    {
     "name": "stdout",
     "output_type": "stream",
     "text": [
      "기울기 :  1.5\n",
      "y절편 :  88.0\n",
      "최소 제곱법을 활용한 회귀직선 구하기 : y =  1.5 x + 88.0\n"
     ]
    }
   ],
   "source": [
    "print(\"기울기 : \", a)\n",
    "print(\"y절편 : \", b)\n",
    "print(\"최소 제곱법을 활용한 회귀직선 구하기 : y = \", a , \"x\" , \"+\", b)"
   ]
  },
  {
   "cell_type": "markdown",
   "id": "f4244826",
   "metadata": {},
   "source": [
    "- 평균 제곱 오차(MSE)"
   ]
  },
  {
   "cell_type": "code",
   "execution_count": 1,
   "id": "cb2eb9df",
   "metadata": {},
   "outputs": [],
   "source": [
    "import numpy as np"
   ]
  },
  {
   "cell_type": "code",
   "execution_count": 2,
   "id": "0581b6c6",
   "metadata": {},
   "outputs": [],
   "source": [
    "# 임의로 기울기(a)와 절편(b)구하기\n",
    "fake_a_b = [3, 76]"
   ]
  },
  {
   "cell_type": "code",
   "execution_count": 3,
   "id": "16b46738",
   "metadata": {},
   "outputs": [],
   "source": [
    "data = [[2,80],[4,97],[6,90],[8,99]]\n",
    "x = [i[0] for i in data]\n",
    "y = [i[1] for i in data]"
   ]
  },
  {
   "cell_type": "code",
   "execution_count": 4,
   "id": "e6d23205",
   "metadata": {},
   "outputs": [],
   "source": [
    "def predict(x):\n",
    "    return fake_a_b[0]*x + fake_a_b[1]"
   ]
  },
  {
   "cell_type": "code",
   "execution_count": 8,
   "id": "4502808a",
   "metadata": {},
   "outputs": [],
   "source": [
    "def mse(y_hat, y):\n",
    "    return((y_hat- y) ** 2).mean()"
   ]
  },
  {
   "cell_type": "code",
   "execution_count": 9,
   "id": "3d1740d0",
   "metadata": {},
   "outputs": [],
   "source": [
    "def mse_val(predict_result, y):\n",
    "    return mse(np.array(predict_result), np.array(y))"
   ]
  },
  {
   "cell_type": "code",
   "execution_count": 10,
   "id": "87da85bc",
   "metadata": {},
   "outputs": [],
   "source": [
    "predict_result = []"
   ]
  },
  {
   "cell_type": "code",
   "execution_count": 11,
   "id": "50bb86b9",
   "metadata": {},
   "outputs": [
    {
     "name": "stdout",
     "output_type": "stream",
     "text": [
      "공부한 시간 = 2.000000, 실제 점수 = 80.000000, 예측 점수 = 82.000000\n",
      "공부한 시간 = 4.000000, 실제 점수 = 97.000000, 예측 점수 = 88.000000\n",
      "공부한 시간 = 6.000000, 실제 점수 = 90.000000, 예측 점수 = 94.000000\n",
      "공부한 시간 = 8.000000, 실제 점수 = 99.000000, 예측 점수 = 100.000000\n"
     ]
    }
   ],
   "source": [
    "for i in range(len(x)):\n",
    "    predict_result.append(predict(x[i]))\n",
    "    print(\"공부한 시간 = %f, 실제 점수 = %f, 예측 점수 = %f\" %(x[i], y[i], predict(x[i])))"
   ]
  },
  {
   "cell_type": "code",
   "execution_count": 12,
   "id": "c68b1e2e",
   "metadata": {},
   "outputs": [
    {
     "name": "stdout",
     "output_type": "stream",
     "text": [
      "mse 최종값: 25.5\n"
     ]
    }
   ],
   "source": [
    "print(\"mse 최종값: \" + str(mse_val(predict_result, y)))"
   ]
  },
  {
   "cell_type": "code",
   "execution_count": null,
   "id": "9e664c9d",
   "metadata": {},
   "outputs": [],
   "source": []
  }
 ],
 "metadata": {
  "kernelspec": {
   "display_name": "Python 3",
   "language": "python",
   "name": "python3"
  },
  "language_info": {
   "codemirror_mode": {
    "name": "ipython",
    "version": 3
   },
   "file_extension": ".py",
   "mimetype": "text/x-python",
   "name": "python",
   "nbconvert_exporter": "python",
   "pygments_lexer": "ipython3",
   "version": "3.8.8"
  }
 },
 "nbformat": 4,
 "nbformat_minor": 5
}
