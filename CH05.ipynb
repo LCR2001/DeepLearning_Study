{
 "cells": [
  {
   "cell_type": "markdown",
   "id": "d31544db",
   "metadata": {},
   "source": [
    "<로지스틱 회귀_Logistic Regression>"
   ]
  },
  {
   "cell_type": "code",
   "execution_count": 1,
   "id": "a24c66a8",
   "metadata": {},
   "outputs": [],
   "source": [
    "import numpy as np\n",
    "import pandas as pd\n",
    "import matplotlib.pyplot as plt"
   ]
  },
  {
   "cell_type": "code",
   "execution_count": 2,
   "id": "26fdc6a3",
   "metadata": {},
   "outputs": [],
   "source": [
    "data = [[2,0],[4,0],[6,0],[8,1],[10,1],[12,1],[14,1]]\n",
    "\n",
    "x_data = [i[0] for i in data]\n",
    "y_data = [i[1] for i in data]"
   ]
  },
  {
   "cell_type": "code",
   "execution_count": 3,
   "id": "4caf1aba",
   "metadata": {},
   "outputs": [
    {
     "data": {
      "text/plain": [
       "(-0.1, 1.1)"
      ]
     },
     "execution_count": 3,
     "metadata": {},
     "output_type": "execute_result"
    },
    {
     "data": {
      "image/png": "[encoded data removed]",
      "text/plain": [
       "<Figure size 432x288 with 1 Axes>"
      ]
     },
     "metadata": {
      "needs_background": "light"
     },
     "output_type": "display_data"
    }
   ],
   "source": [
    "plt.scatter(x_data, y_data)\n",
    "plt.xlim(0,15)\n",
    "plt.ylim(-.1, 1.1)"
   ]
  },
  {
   "cell_type": "code",
   "execution_count": 4,
   "id": "6e9a14c0",
   "metadata": {},
   "outputs": [],
   "source": [
    "a = 0\n",
    "b = 0\n",
    "\n",
    "lr = 0.05"
   ]
  },
  {
   "cell_type": "code",
   "execution_count": 9,
   "id": "244f3573",
   "metadata": {},
   "outputs": [
    {
     "name": "stdout",
     "output_type": "stream",
     "text": [
      "epoch = 0 , 기울기 = 0.2348 , 절편 = -0.0857\n",
      "epoch = 0 , 기울기 = 0.0945 , 절편 = -0.1208\n",
      "epoch = 0 , 기울기 = -0.0884 , 절편 = -0.1513\n",
      "epoch = 0 , 기울기 = 0.1925 , 절편 = -0.1162\n",
      "epoch = 0 , 기울기 = 0.2629 , 절편 = -0.1091\n",
      "epoch = 0 , 기울기 = 0.2901 , 절편 = -0.1069\n",
      "epoch = 0 , 기울기 = 0.3033 , 절편 = -0.1059\n",
      "epoch = 1000 , 기울기 = 1.4989 , 절편 = -9.9480\n",
      "epoch = 1000 , 기울기 = 1.4951 , 절편 = -9.9490\n",
      "epoch = 1000 , 기울기 = 1.4131 , 절편 = -9.9626\n",
      "epoch = 1000 , 기울기 = 1.4960 , 절편 = -9.9523\n",
      "epoch = 1000 , 기울기 = 1.4993 , 절편 = -9.9519\n",
      "epoch = 1000 , 기울기 = 1.4995 , 절편 = -9.9519\n",
      "epoch = 1000 , 기울기 = 1.4995 , 절편 = -9.9519\n",
      "epoch = 2000 , 기울기 = 1.9071 , 절편 = -12.9536\n",
      "epoch = 2000 , 기울기 = 1.9061 , 절편 = -12.9539\n",
      "epoch = 2000 , 기울기 = 1.8522 , 절편 = -12.9629\n",
      "epoch = 2000 , 기울기 = 1.9063 , 절편 = -12.9561\n",
      "epoch = 2000 , 기울기 = 1.9074 , 절편 = -12.9560\n",
      "epoch = 2000 , 기울기 = 1.9075 , 절편 = -12.9560\n",
      "epoch = 2000 , 기울기 = 1.9075 , 절편 = -12.9560\n"
     ]
    }
   ],
   "source": [
    "# 시그모이드 함수 정의\n",
    "def sigmoid(x):\n",
    "    return 1 / (1 + np.e ** (-x))\n",
    "\n",
    "# 경사하강법 실행\n",
    "for i in range(2001):\n",
    "    for x_data, y_data in data:\n",
    "        a_diff = x_data*(sigmoid(a * x_data + b) - y_data)\n",
    "        b_diff = sigmoid(a * x_data + b) - y_data\n",
    "        a = a - lr * a_diff\n",
    "        b = b - lr * b_diff\n",
    "        if i % 1000 == 0:\n",
    "            print(\"epoch = %.f , 기울기 = %.04f , 절편 = %.04f\" %(i,a,b))\n",
    "            "
   ]
  },
  {
   "cell_type": "code",
   "execution_count": 11,
   "id": "ed8f9de2",
   "metadata": {},
   "outputs": [
    {
     "data": {
      "image/png": "[encoded data removed]",
      "text/plain": [
       "<Figure size 432x288 with 1 Axes>"
      ]
     },
     "metadata": {
      "needs_background": "light"
     },
     "output_type": "display_data"
    }
   ],
   "source": [
    "# 앞서 구한 기울기와 절편을 이용하여 그래프 그리기\n",
    "x_data = [i[0] for i in data]\n",
    "y_data = [i[1] for i in data]\n",
    "\n",
    "plt.scatter(x_data,y_data)\n",
    "plt.xlim(0,15)\n",
    "plt.ylim(-.1, 1.1)\n",
    "x_range = (np.arange(0,15,0.1))    \n",
    "plt.plot(np.arange(0,15,0.1), np.array([sigmoid(a * x + b) for x in x_range]))\n",
    "plt.show()"
   ]
  },
  {
   "cell_type": "code",
   "execution_count": null,
   "id": "1bfe6521",
   "metadata": {},
   "outputs": [],
   "source": []
  }
 ],
 "metadata": {
  "kernelspec": {
   "display_name": "Python 3",
   "language": "python",
   "name": "python3"
  },
  "language_info": {
   "codemirror_mode": {
    "name": "ipython",
    "version": 3
   },
   "file_extension": ".py",
   "mimetype": "text/x-python",
   "name": "python",
   "nbconvert_exporter": "python",
   "pygments_lexer": "ipython3",
   "version": "3.8.8"
  }
 },
 "nbformat": 4,
 "nbformat_minor": 5
}
