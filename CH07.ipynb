{
 "cells": [
  {
   "cell_type": "markdown",
   "id": "23db1ea8",
   "metadata": {},
   "source": [
    "<다층 퍼셉트론으로 XOR문제 해결하기>"
   ]
  },
  {
   "cell_type": "code",
   "execution_count": 1,
   "id": "e5286d32",
   "metadata": {},
   "outputs": [],
   "source": [
    "import numpy as np"
   ]
  },
  {
   "cell_type": "code",
   "execution_count": 2,
   "id": "6e1a5b25",
   "metadata": {},
   "outputs": [],
   "source": [
    "# 가중치(w)와 바이어스(b) 설정\n",
    "w11 = np.array([-2, -2])\n",
    "w12 = np.array([2, 2])\n",
    "w2 = np.array([1, 1])\n",
    "b1 = 3\n",
    "b2 = -1\n",
    "b3 = -1"
   ]
  },
  {
   "cell_type": "code",
   "execution_count": 3,
   "id": "9786d49a",
   "metadata": {},
   "outputs": [],
   "source": [
    "# 다층 퍼셉트론(Multiple Perceptron)\n",
    "def MLP(x, w, b):\n",
    "    y = np.sum(w * x) + b\n",
    "    if y <= 0 : \n",
    "        return 0\n",
    "    else:\n",
    "        return 1\n",
    "    \n",
    "# NAND 게이트(Negative AND)\n",
    "def NAND(x1, x2):\n",
    "    return MLP(np.array([x1, x2]), w11, b1)\n",
    "\n",
    "# OR 게이트\n",
    "def OR(x1, x2):\n",
    "    return MLP(np.array([x1, x2]), w12, b2)\n",
    "\n",
    "# AND 게이트\n",
    "def AND(x1,x2):\n",
    "    return MLP(np.array([x1, x2]), w2, b3)\n",
    "\n",
    "# XOR 게이트\n",
    "def XOR(x1, x2):\n",
    "    return AND(NAND(x1,x2), OR(x1,x2))"
   ]
  },
  {
   "cell_type": "code",
   "execution_count": 4,
   "id": "c6c522c8",
   "metadata": {},
   "outputs": [
    {
     "name": "stdout",
     "output_type": "stream",
     "text": [
      "입력 값 : (0, 0)출력 값 : 0\n",
      "입력 값 : (1, 0)출력 값 : 1\n",
      "입력 값 : (0, 1)출력 값 : 1\n",
      "입력 값 : (1, 1)출력 값 : 0\n"
     ]
    }
   ],
   "source": [
    "# x1,x2 값을 번갈아 대입하면서 최종값 출력\n",
    "if __name__ == '__main__':\n",
    "    for x in [(0,0), (1,0), (0,1), (1,1)]:\n",
    "        y = XOR(x[0],x[1])\n",
    "        \n",
    "        print(\"입력 값 : \" + str(x) + \"출력 값 : \" + str(y))"
   ]
  },
  {
   "cell_type": "code",
   "execution_count": null,
   "id": "d21b4455",
   "metadata": {},
   "outputs": [],
   "source": []
  }
 ],
 "metadata": {
  "kernelspec": {
   "display_name": "Python 3",
   "language": "python",
   "name": "python3"
  },
  "language_info": {
   "codemirror_mode": {
    "name": "ipython",
    "version": 3
   },
   "file_extension": ".py",
   "mimetype": "text/x-python",
   "name": "python",
   "nbconvert_exporter": "python",
   "pygments_lexer": "ipython3",
   "version": "3.8.8"
  }
 },
 "nbformat": 4,
 "nbformat_minor": 5
}
